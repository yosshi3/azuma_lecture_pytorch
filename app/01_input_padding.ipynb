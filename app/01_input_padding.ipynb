{
 "cells": [
  {
   "cell_type": "markdown",
   "metadata": {
    "colab_type": "text",
    "id": "view-in-github"
   },
   "source": [
    "<a href=\"https://colab.research.google.com/github/yukinaga/twitter_bot/blob/master/section_5/01_input_padding.ipynb\" target=\"_parent\"><img src=\"https://colab.research.google.com/assets/colab-badge.svg\" alt=\"Open In Colab\"/></a>"
   ]
  },
  {
   "cell_type": "markdown",
   "metadata": {
    "id": "-9xgHp5jqQQO"
   },
   "source": [
    "# 入力のパディング\n",
    "入力となる文章の長さは様々なのですが、バッチ内ではデータの時系列の長さを揃える必要があります。  \n",
    "今回は、短い文章に対して「パディング」を行い、バッチ内の全ての文章の長さを揃えます。"
   ]
  },
  {
   "cell_type": "markdown",
   "metadata": {
    "id": "Yar4MmG9ufdW"
   },
   "source": [
    "## テンソルのパディング\n",
    "`nn.utils.rnn.pad_sequence`でパディングを行うことができます。"
   ]
  },
  {
   "cell_type": "markdown",
   "metadata": {
    "id": "Z9VjHFyXupy-"
   },
   "source": [
    "サイズが異なる3つのテンソルを用意します。"
   ]
  },
  {
   "cell_type": "code",
   "execution_count": 1,
   "metadata": {
    "id": "g2hYapMVuScF"
   },
   "outputs": [
    {
     "name": "stdout",
     "output_type": "stream",
     "text": [
      "tensor([[1., 1., 1., 1., 1.],\n",
      "        [1., 1., 1., 1., 1.],\n",
      "        [1., 1., 1., 1., 1.]])\n",
      "tensor([[2., 2., 2., 2., 2.],\n",
      "        [2., 2., 2., 2., 2.]])\n",
      "tensor([[3., 3., 3., 3., 3.]])\n"
     ]
    }
   ],
   "source": [
    "import torch\n",
    "import torch.nn as nn\n",
    "\n",
    "a = torch.ones(3, 5)\n",
    "print(a)\n",
    "b = torch.ones(2, 5) * 2\n",
    "print(b)\n",
    "c = torch.ones(1, 5) * 3\n",
    "print(c)"
   ]
  },
  {
   "cell_type": "markdown",
   "metadata": {
    "id": "sCX-sQ3PvKwi"
   },
   "source": [
    "`nn.utils.rnn.pad_sequence`によりパディングを行います。"
   ]
  },
  {
   "cell_type": "code",
   "execution_count": 2,
   "metadata": {
    "id": "uD2oTL-vvPmk"
   },
   "outputs": [
    {
     "name": "stdout",
     "output_type": "stream",
     "text": [
      "tensor([[[1., 1., 1., 1., 1.],\n",
      "         [1., 1., 1., 1., 1.],\n",
      "         [1., 1., 1., 1., 1.]],\n",
      "\n",
      "        [[2., 2., 2., 2., 2.],\n",
      "         [2., 2., 2., 2., 2.],\n",
      "         [0., 0., 0., 0., 0.]],\n",
      "\n",
      "        [[3., 3., 3., 3., 3.],\n",
      "         [0., 0., 0., 0., 0.],\n",
      "         [0., 0., 0., 0., 0.]]])\n"
     ]
    }
   ],
   "source": [
    "padded = nn.utils.rnn.pad_sequence([a, b, c], batch_first=True)\n",
    "print(padded)"
   ]
  },
  {
   "cell_type": "markdown",
   "metadata": {
    "id": "-rHKMusSvjSN"
   },
   "source": [
    "## Tensorのパッキング\n",
    "このままだと0の入力が多数になってしまうので、RNNで適切に扱うためには「パッキング」を行う必要があります。  \n",
    "`rnn.pack_padded_sequence`により、0を除いたPackedSequence型のデータを作成できます。  \n",
    "PackedSequence型のデータは、RNNに入力することが可能です。"
   ]
  },
  {
   "cell_type": "code",
   "execution_count": 3,
   "metadata": {
    "id": "Gkpk0jOwvjl0"
   },
   "outputs": [
    {
     "name": "stdout",
     "output_type": "stream",
     "text": [
      "PackedSequence(data=tensor([[1., 1., 1., 1., 1.],\n",
      "        [2., 2., 2., 2., 2.],\n",
      "        [3., 3., 3., 3., 3.],\n",
      "        [1., 1., 1., 1., 1.],\n",
      "        [2., 2., 2., 2., 2.],\n",
      "        [1., 1., 1., 1., 1.]]), batch_sizes=tensor([3, 2, 1]), sorted_indices=tensor([0, 1, 2]), unsorted_indices=tensor([0, 1, 2]))\n"
     ]
    }
   ],
   "source": [
    "packed = nn.utils.rnn.pack_padded_sequence(padded, [3, 2, 1], batch_first=True, enforce_sorted=False)\n",
    "print(packed)"
   ]
  },
  {
   "cell_type": "markdown",
   "metadata": {
    "id": "PKPZvXSFyC0O"
   },
   "source": [
    "## RNNへ入力\n",
    "パッキングされたTensorをRNNへ入力します。  \n",
    "出力は`PackedSequence`型のデータに、隠れ層の状態hは通常のTensorになります。"
   ]
  },
  {
   "cell_type": "code",
   "execution_count": 4,
   "metadata": {
    "id": "GL3tsCWVyDC1"
   },
   "outputs": [
    {
     "name": "stdout",
     "output_type": "stream",
     "text": [
      "PackedSequence(data=tensor([[-0.2443, -0.6545],\n",
      "        [-0.7950, -0.9492],\n",
      "        [-0.9579, -0.9935],\n",
      "        [ 0.0135, -0.5347],\n",
      "        [-0.7590, -0.8611],\n",
      "        [ 0.1054, -0.6377]], grad_fn=<CatBackward>), batch_sizes=tensor([3, 2, 1]), sorted_indices=tensor([0, 1, 2]), unsorted_indices=tensor([0, 1, 2]))\n",
      "tensor([[[ 0.1054, -0.6377],\n",
      "         [-0.7590, -0.8611],\n",
      "         [-0.9579, -0.9935]]], grad_fn=<IndexSelectBackward>)\n"
     ]
    }
   ],
   "source": [
    "rnn = nn.RNN(\n",
    "            input_size=5,  # 入力サイズ\n",
    "            hidden_size=2,  # ニューロン数\n",
    "            batch_first=True,  # 入力を (バッチサイズ, 時系列の数, 入力の数) にする\n",
    "        )\n",
    "\n",
    "y, h  = rnn(packed)\n",
    "print(y)\n",
    "print(h)"
   ]
  },
  {
   "cell_type": "markdown",
   "metadata": {
    "id": "vT1Hodyf2uDW"
   },
   "source": [
    "## PackedSequence型をTensorに戻す\n",
    "`pad_packed_sequence`により、RNNの出力をパディングされたTensorに戻します。"
   ]
  },
  {
   "cell_type": "code",
   "execution_count": 5,
   "metadata": {
    "id": "k-k1yfuo4XI1"
   },
   "outputs": [
    {
     "name": "stdout",
     "output_type": "stream",
     "text": [
      "(tensor([[[-0.2443, -0.6545],\n",
      "         [ 0.0135, -0.5347],\n",
      "         [ 0.1054, -0.6377]],\n",
      "\n",
      "        [[-0.7950, -0.9492],\n",
      "         [-0.7590, -0.8611],\n",
      "         [ 0.0000,  0.0000]],\n",
      "\n",
      "        [[-0.9579, -0.9935],\n",
      "         [ 0.0000,  0.0000],\n",
      "         [ 0.0000,  0.0000]]], grad_fn=<IndexSelectBackward>), tensor([3, 2, 1]))\n"
     ]
    }
   ],
   "source": [
    "y_unpacked = nn.utils.rnn.pad_packed_sequence(y, batch_first=True)\n",
    "print(y_unpacked)"
   ]
  },
  {
   "cell_type": "code",
   "execution_count": null,
   "metadata": {},
   "outputs": [],
   "source": []
  }
 ],
 "metadata": {
  "colab": {
   "authorship_tag": "ABX9TyPFrh7XVB2MNc3RbLWBEZJC",
   "collapsed_sections": [],
   "include_colab_link": true,
   "name": "upload_01_input_padding.ipynb",
   "provenance": []
  },
  "kernelspec": {
   "display_name": "Python 3",
   "language": "python",
   "name": "python3"
  },
  "language_info": {
   "codemirror_mode": {
    "name": "ipython",
    "version": 3
   },
   "file_extension": ".py",
   "mimetype": "text/x-python",
   "name": "python",
   "nbconvert_exporter": "python",
   "pygments_lexer": "ipython3",
   "version": "3.7.9"
  }
 },
 "nbformat": 4,
 "nbformat_minor": 1
}
