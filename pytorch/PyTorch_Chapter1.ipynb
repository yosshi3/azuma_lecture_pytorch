{
  "nbformat": 4,
  "nbformat_minor": 0,
  "metadata": {
    "colab": {
      "name": "PyTorch_Chapter1.ipynb",
      "provenance": [],
      "collapsed_sections": [],
      "include_colab_link": true
    },
    "kernelspec": {
      "name": "python3",
      "display_name": "Python 3"
    },
    "accelerator": "GPU"
  },
  "cells": [
    {
      "cell_type": "markdown",
      "metadata": {
        "id": "view-in-github",
        "colab_type": "text"
      },
      "source": [
        "<a href=\"https://colab.research.google.com/github/yosshi3/python-season3/blob/master/pytorch/PyTorch_Chapter1.ipynb\" target=\"_parent\"><img src=\"https://colab.research.google.com/assets/colab-badge.svg\" alt=\"Open In Colab\"/></a>"
      ]
    },
    {
      "cell_type": "markdown",
      "metadata": {
        "id": "FGMb2wOJeCeP",
        "colab_type": "text"
      },
      "source": [
        "Chapter 1　PyTorchの基本"
      ]
    },
    {
      "cell_type": "code",
      "metadata": {
        "id": "-8Giz8we1Lmd",
        "colab_type": "code",
        "colab": {}
      },
      "source": [
        "!pip3 install http://download.pytorch.org/whl/cu80/torch-0.4.0-cp36-cp36m-linux_x86_64.whl\n",
        "!pip3 install torchvision\n",
        "!pip3 install tqdm"
      ],
      "execution_count": null,
      "outputs": []
    },
    {
      "cell_type": "code",
      "metadata": {
        "id": "MqiWwutIClJE",
        "colab_type": "code",
        "colab": {}
      },
      "source": [
        "import torch\n",
        "torch.tensor([1,2,3]).to(\"cuda:0\")"
      ],
      "execution_count": null,
      "outputs": []
    },
    {
      "cell_type": "markdown",
      "metadata": {
        "id": "SEGLUCJw_GsH",
        "colab_type": "text"
      },
      "source": [
        "リスト1.1　Tensorの生成例 "
      ]
    },
    {
      "cell_type": "code",
      "metadata": {
        "id": "TTxqARjQC4Tc",
        "colab_type": "code",
        "colab": {}
      },
      "source": [
        "import numpy as np\n",
        "import torch\n",
        "\n",
        "# 入れ子のlistを渡して作成\n",
        "t = torch.tensor([[1, 2], [3, 4.]])\n",
        "\n",
        "# deviceを指定することでGPUにTensorを作成する\n",
        "t = torch.tensor([[1, 2], [3, 4.]], device=\"cuda:0\")\n",
        "\n",
        "# dtypeを指定することで倍精度のTensorを作る\n",
        "t = torch.tensor([[1, 2], [3, 4.]], dtype=torch.float64)\n",
        "\n",
        "# 0から9までの数値で初期化された1次元のTensor\n",
        "t = torch.arange(0, 10)\n",
        "\n",
        "# すべての値が0の100×10のTensorを\n",
        "# 作成し、toメソッドでGPUに転送する\n",
        "t = torch.zeros(100, 10).to(\"cuda:0\")\n",
        "\n",
        "# 正規乱数で100×10のTensorを作成\n",
        "t = torch.randn(100, 10)\n",
        "\n",
        "# Tensorのshapeはsizeメソッドで取得可能\n",
        "t.size()"
      ],
      "execution_count": null,
      "outputs": []
    },
    {
      "cell_type": "markdown",
      "metadata": {
        "id": "_eR6rP-N_jYO",
        "colab_type": "text"
      },
      "source": [
        "リスト1.2　Tensorの変換例"
      ]
    },
    {
      "cell_type": "code",
      "metadata": {
        "id": "Vrlb7qpIDPc6",
        "colab_type": "code",
        "colab": {}
      },
      "source": [
        "# numpyメソッドを使用してndarrayに変換\n",
        "t = torch.tensor([[1, 2], [3, 4.]])\n",
        "x = t.numpy()\n",
        "\n",
        "# GPU上のTensorはcpuメソッドで、\n",
        "# 一度CPUのTensorに変換する必要がある\n",
        "t = torch.tensor([[1, 2], [3, 4.]], device=\"cuda:0\")\n",
        "x = t.to(\"cpu\").numpy()"
      ],
      "execution_count": null,
      "outputs": []
    },
    {
      "cell_type": "markdown",
      "metadata": {
        "id": "fF9WDJRe_o1X",
        "colab_type": "text"
      },
      "source": [
        "リスト1.3　Tensorのインデクシング操作例"
      ]
    },
    {
      "cell_type": "code",
      "metadata": {
        "id": "R3mY3CM6DXoK",
        "colab_type": "code",
        "colab": {}
      },
      "source": [
        "t = torch.tensor([[1,2,3], [4,5,6.]])\n",
        "\n",
        "# スカラーの添字で指定\n",
        "t[0, 2]\n",
        "\n",
        "# スライスで指定\n",
        "t[:, :2]\n",
        "\n",
        "# 添字のリストで指定\n",
        "t[:, [1,2]]\n",
        "\n",
        "# マスク配列を使用して3より大きい部分のみ選択\n",
        "t[t > 3]\n",
        "\n",
        "# [0, 1]要素を100にする\n",
        "t[0, 1] = 100\n",
        "\n",
        "# スライスを使用した一括代入\n",
        "t[:, 1] = 200\n",
        "\n",
        "# マスク配列を使用して特定条件の要素のみ置換\n",
        "t[t > 10] = 20"
      ],
      "execution_count": null,
      "outputs": []
    },
    {
      "cell_type": "markdown",
      "metadata": {
        "id": "IHxp5geK_w1A",
        "colab_type": "text"
      },
      "source": [
        "リスト1.4　Tensorの演算"
      ]
    },
    {
      "cell_type": "code",
      "metadata": {
        "id": "Gbrngsb9DeBq",
        "colab_type": "code",
        "colab": {}
      },
      "source": [
        "# 長さ3のベクトル\n",
        "v = torch.tensor([1, 2, 3.]) \n",
        "w = torch.tensor([0, 10, 20.])\n",
        "# 2 × 3の行列\n",
        "m = torch.tensor([[0, 1, 2], [100, 200, 300.]])\n",
        "\n",
        "# ベクトルとスカラーの足し算\n",
        "v2 = v + 10\n",
        "# 累乗も同様\n",
        "v2 = v ** 2\n",
        "# 同じ長さのベクトル同士の引き算\n",
        "z = v - w \n",
        "# 複数の組み合わせ\n",
        "u = 2 * v - w / 10 + 6.0\n",
        "\n",
        "# 行列とスカラー\n",
        "m2 = m * 2.0\n",
        "# 行列とベクトル\n",
        "#(2, 3)の行列と(3,)のベクトルなのでブロードキャストが働く\n",
        "m3 = m + v\n",
        "# 行列同士\n",
        "m4 = m + m"
      ],
      "execution_count": null,
      "outputs": []
    },
    {
      "cell_type": "markdown",
      "metadata": {
        "id": "AVt8P1L0_6ey",
        "colab_type": "text"
      },
      "source": [
        "リスト1.5　数学関数"
      ]
    },
    {
      "cell_type": "code",
      "metadata": {
        "id": "jJFBaqHhDhgj",
        "colab_type": "code",
        "colab": {}
      },
      "source": [
        "# 100 × 10のテストデータを用意\n",
        "X = torch.randn(100, 10)\n",
        "\n",
        "# 数学関数を含めた数式\n",
        "y = X * 2 + torch.abs(X)\n",
        "\n",
        "# 平均値を求める\n",
        "m = torch.mean(X)\n",
        "# 関数ではなく、メソッドとしても利用できる\n",
        "m = X.mean()\n",
        "# 集計結果は0次元のTensorでitemメソッドを使用して、\n",
        "# 値を取り出すことができる\n",
        "m_value = m.item()\n",
        "# 集計は次元を指定できる。以下は行方向に、\n",
        "# 集計して列ごとに平均値を計算している\n",
        "m2 = X.mean(0)"
      ],
      "execution_count": null,
      "outputs": []
    },
    {
      "cell_type": "markdown",
      "metadata": {
        "id": "rSG2yc6SABjA",
        "colab_type": "text"
      },
      "source": [
        "リスト1.6　Tensorのインデクシング操作例"
      ]
    },
    {
      "cell_type": "code",
      "metadata": {
        "id": "LW0ogM1JDlhL",
        "colab_type": "code",
        "colab": {}
      },
      "source": [
        "x1 = torch.tensor([[1, 2], [3, 4.]]) # 2×2\n",
        "x2 = torch.tensor([[10, 20, 30], [40, 50, 60.]]) # 2×3\n",
        "\n",
        "# 2×2を4×1に見せる\n",
        "x1.view(4, 1)\n",
        "\n",
        "# -1は残りの次元を表し、一度だけ使用できる\n",
        "# 以下の例では-1とすると自動的に4になる\n",
        "x1.view(1, -1)\n",
        "\n",
        "# 2×3を転置して3×2にする\n",
        "x2.t()\n",
        "\n",
        "# dim=1に対して結合することで2×5のTensorを作る\n",
        "torch.cat([x1, x2], dim=1)\n",
        "\n",
        "# HWCをCHWに変換\n",
        "# 64×32×3のデータが100個\n",
        "hwc_img_data = torch.rand(100, 64, 32, 3)\n",
        "chw_img_data = hwc_img_data.transpose(1, 2).transpose(1, 3)"
      ],
      "execution_count": null,
      "outputs": []
    },
    {
      "cell_type": "markdown",
      "metadata": {
        "id": "Irm0xg4OALIA",
        "colab_type": "text"
      },
      "source": [
        "リスト1.7　演算の例"
      ]
    },
    {
      "cell_type": "code",
      "metadata": {
        "id": "9mUh2QLuDuJj",
        "colab_type": "code",
        "colab": {}
      },
      "source": [
        "m = torch.randn(100, 10)\n",
        "v = torch.randn(10)\n",
        "\n",
        "# 内積\n",
        "d = torch.dot(v, v)\n",
        "\n",
        "# 100 × 10の行列と長さ10のベクトルとの積\n",
        "# 結果は長さ100のベクトル\n",
        "v2 = torch.mv(m, v)\n",
        "\n",
        "# 行列積\n",
        "m2 = torch.mm(m.t(), m)\n",
        "\n",
        "# 特異値分解\n",
        "u, s, v = torch.svd(m)"
      ],
      "execution_count": null,
      "outputs": []
    },
    {
      "cell_type": "markdown",
      "metadata": {
        "id": "mGrdx8ZSAWox",
        "colab_type": "text"
      },
      "source": [
        "リスト1.8　自動微分"
      ]
    },
    {
      "cell_type": "code",
      "metadata": {
        "id": "H7sH3XbND1sj",
        "colab_type": "code",
        "colab": {}
      },
      "source": [
        "x = torch.randn(100, 3)\n",
        "# 微分の変数として扱う場合はrequires_gradフラグをTrueにする\n",
        "a = torch.tensor([1, 2, 3.], requires_grad=True)\n",
        "\n",
        "# 計算をすることで自動的に計算グラフが構築されていく\n",
        "y = torch.mv(x, a)\n",
        "o = y.sum()\n",
        "\n",
        "# 微分を実行する\n",
        "o.backward()\n",
        "\n",
        "# 解析解と比較\n",
        "a.grad != x.sum(0)"
      ],
      "execution_count": null,
      "outputs": []
    },
    {
      "cell_type": "code",
      "metadata": {
        "id": "ORM5iDTQD-0i",
        "colab_type": "code",
        "colab": {}
      },
      "source": [
        "# xはrequires_gradがFalseなので微分は計算されない\n",
        "x.grad is None"
      ],
      "execution_count": null,
      "outputs": []
    }
  ]
}