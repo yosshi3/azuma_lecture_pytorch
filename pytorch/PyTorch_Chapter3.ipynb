{
  "nbformat": 4,
  "nbformat_minor": 0,
  "metadata": {
    "colab": {
      "name": "PyTorch_Chapter3.ipynb",
      "provenance": [],
      "collapsed_sections": [],
      "include_colab_link": true
    },
    "kernelspec": {
      "name": "python3",
      "display_name": "Python 3"
    },
    "accelerator": "GPU"
  },
  "cells": [
    {
      "cell_type": "markdown",
      "metadata": {
        "id": "view-in-github",
        "colab_type": "text"
      },
      "source": [
        "<a href=\"https://colab.research.google.com/github/yosshi3/python-season3/blob/master/pytorch/PyTorch_Chapter3.ipynb\" target=\"_parent\"><img src=\"https://colab.research.google.com/assets/colab-badge.svg\" alt=\"Open In Colab\"/></a>"
      ]
    },
    {
      "cell_type": "markdown",
      "metadata": {
        "id": "1_Zn35B833GV",
        "colab_type": "text"
      },
      "source": [
        "Chapter3　多層パーセプトロン"
      ]
    },
    {
      "cell_type": "code",
      "metadata": {
        "id": "tPIfITcaBxSI",
        "colab_type": "code",
        "colab": {}
      },
      "source": [
        "!pip3 install http://download.pytorch.org/whl/cu80/torch-0.4.0-cp36-cp36m-linux_x86_64.whl\n",
        "!pip3 install torchvision\n",
        "!pip3 install tqdm\n"
      ],
      "execution_count": null,
      "outputs": []
    },
    {
      "cell_type": "code",
      "metadata": {
        "id": "MqiWwutIClJE",
        "colab_type": "code",
        "colab": {}
      },
      "source": [
        "import torch\n",
        "torch.tensor([1,2,3]).to(\"cuda:0\")"
      ],
      "execution_count": null,
      "outputs": []
    },
    {
      "cell_type": "markdown",
      "metadata": {
        "id": "vYQGQLqXF7ib",
        "colab_type": "text"
      },
      "source": [
        "リスト3.1　手書き文字を判別するMLPを作成"
      ]
    },
    {
      "cell_type": "code",
      "metadata": {
        "id": "hBa6E1GEmOJc",
        "colab_type": "code",
        "colab": {}
      },
      "source": [
        "import torch\n",
        "from torch import nn\n",
        "\n",
        "net = nn.Sequential(\n",
        "    nn.Linear(64, 32),\n",
        "    nn.ReLU(),\n",
        "    nn.Linear(32, 16),\n",
        "    nn.ReLU(),\n",
        "    nn.Linear(16, 10)\n",
        ")"
      ],
      "execution_count": null,
      "outputs": []
    },
    {
      "cell_type": "markdown",
      "metadata": {
        "id": "ItRGZihhGATb",
        "colab_type": "text"
      },
      "source": [
        "リスト3.2　手書き文字データセットの学習のコードの残り部分"
      ]
    },
    {
      "cell_type": "code",
      "metadata": {
        "id": "qKckD_SV36nI",
        "colab_type": "code",
        "colab": {}
      },
      "source": [
        "from torch import optim\n",
        "from sklearn.datasets import load_digits\n",
        "digits = load_digits()\n",
        "\n",
        "X = digits.data\n",
        "Y = digits.target\n",
        "\n",
        "# NumPyのndarrayをPyTorchのTensorに変換\n",
        "X = torch.tensor(X, dtype=torch.float32)\n",
        "Y = torch.tensor(Y, dtype=torch.int64)\n",
        "\n",
        "# ソフトマックスクロスエントロピー\n",
        "loss_fn = nn.CrossEntropyLoss()\n",
        "\n",
        "# Adam\n",
        "optimizer = optim.Adam(net.parameters())\n",
        "\n",
        "# 損失関数のログ\n",
        "losses = []\n",
        "\n",
        "# 100回イテレーションを回す\n",
        "for epoc in range(500):\n",
        "\n",
        "    # 前回のbackwardメソッドで\n",
        "    # 計算された勾配の値を削除\n",
        "    optimizer.zero_grad()\n",
        "    \n",
        "    # 線形モデルでyの予測値を計算\n",
        "    y_pred = net(X)\n",
        "    \n",
        "    # MSE lossとwによる微分を計算\n",
        "    loss = loss_fn(y_pred, Y)\n",
        "    loss.backward()\n",
        "    \n",
        "    # 勾配を更新する\n",
        "    optimizer.step()\n",
        "    \n",
        "    # 収束確認のためにlossを記録しておく\n",
        "    losses.append(loss.item())"
      ],
      "execution_count": null,
      "outputs": []
    },
    {
      "cell_type": "markdown",
      "metadata": {
        "id": "QesMvFzbGjNs",
        "colab_type": "text"
      },
      "source": [
        "リスト3.3　toメソッドでGPUに転送"
      ]
    },
    {
      "cell_type": "code",
      "metadata": {
        "id": "uySJUf6A5A_3",
        "colab_type": "code",
        "colab": {}
      },
      "source": [
        "X = X.to(\"cuda:0\")\n",
        "Y = Y.to(\"cuda:0\")\n",
        "net.to(\"cuda:0\")\n",
        "\n",
        "# 以下同様にoptimizerをセットし学習ループを回す"
      ],
      "execution_count": null,
      "outputs": []
    },
    {
      "cell_type": "markdown",
      "metadata": {
        "id": "rnX1oVmMG43A",
        "colab_type": "text"
      },
      "source": [
        "リスト3.4　TensorDatasetをDataLoaderに渡してデータの一部のみを簡単に受け取る例（このコードはサンプル例なので実行しない）"
      ]
    },
    {
      "cell_type": "code",
      "metadata": {
        "id": "1EvQzXsbHesL",
        "colab_type": "code",
        "colab": {}
      },
      "source": [
        "from torch.utils.data import TensorDataset, DataLoader\n",
        "\n",
        "# Datasetを作成\n",
        "ds = TensorDataset(X, Y)\n",
        "\n",
        "# 異なる順番で64個ずつデータを返すDataLoaderを作成\n",
        "loader = DataLoader(ds, batch_size=64, shuffle=True)\n",
        "net = nn.Sequential(\n",
        "    nn.Linear(64, 32),\n",
        "    nn.ReLU(),\n",
        "    nn.Linear(32, 16),\n",
        "    nn.ReLU(),\n",
        "    nn.Linear(16, 10)\n",
        ")\n",
        "\n",
        "loss_fn = nn.CrossEntropyLoss()\n",
        "optimizer = optim.Adam(net.parameters())\n",
        "\n",
        "# 最適化を実行\n",
        "losses = []\n",
        "for epoch in range(10):\n",
        "    running_loss = 0.0\n",
        "    for xx, yy in loader:\n",
        "        # xx, yyは64個分のみ受け取れる\n",
        "        y_pred = net(xx)\n",
        "        loss = loss_fn(y_pred, yy)\n",
        "        optimizer.zero_grad()\n",
        "        loss.backward()\n",
        "        optimizer.step()\n",
        "        running_loss += loss.item()\n",
        "    losses.append(running_loss)"
      ],
      "execution_count": null,
      "outputs": []
    },
    {
      "cell_type": "markdown",
      "metadata": {
        "id": "aNcZYV4VHy1t",
        "colab_type": "text"
      },
      "source": [
        "リスト3.5　3.1節で使用したネットワークをより深くしたコード①"
      ]
    },
    {
      "cell_type": "code",
      "metadata": {
        "id": "4ueMGCms6HTo",
        "colab_type": "code",
        "colab": {}
      },
      "source": [
        "# データを訓練用と検証用に分割\n",
        "from sklearn.model_selection import train_test_split\n",
        "\n",
        "# 全体の30%は検証用\n",
        "X = digits.data\n",
        "Y = digits.target\n",
        "X_train, X_test, Y_train, Y_test = train_test_split(\n",
        "X, Y, test_size=0.3)\n",
        "X_train = torch.tensor(X_train, dtype=torch.float32)\n",
        "Y_train = torch.tensor(Y_train, dtype=torch.int64) \n",
        "X_test = torch.tensor(X_test, dtype=torch.float32)\n",
        "Y_test = torch.tensor(Y_test, dtype=torch.int64) \n",
        "\n",
        "# 層を積み重ねて深いニューラルネットワークを構築する\n",
        "k = 100\n",
        "net = nn.Sequential(\n",
        "    nn.Linear(64, k),\n",
        "    nn.ReLU(),\n",
        "    nn.Linear(k, k),\n",
        "    nn.ReLU(),\n",
        "    nn.Linear(k, k),\n",
        "    nn.ReLU(),\n",
        "    nn.Linear(k, k),\n",
        "    nn.ReLU(),\n",
        "    nn.Linear(k, 10)\n",
        ")\n",
        "loss_fn = nn.CrossEntropyLoss()\n",
        "optimizer = optim.Adam(net.parameters())\n",
        "\n",
        "# 訓練用データでDataLoaderを作成\n",
        "ds = TensorDataset(X_train, Y_train)\n",
        "loader = DataLoader(ds, batch_size=32, shuffle=True)"
      ],
      "execution_count": null,
      "outputs": []
    },
    {
      "cell_type": "markdown",
      "metadata": {
        "id": "AGRejClwIBkd",
        "colab_type": "text"
      },
      "source": [
        "リスト3.6　3.1節で使用したネットワークをより深くしたコード②"
      ]
    },
    {
      "cell_type": "code",
      "metadata": {
        "id": "b7heobwN8MzG",
        "colab_type": "code",
        "colab": {}
      },
      "source": [
        "train_losses = []\n",
        "test_losses = []\n",
        "for epoch in range(100):\n",
        "    running_loss = 0.0\n",
        "    for i, (xx, yy) in enumerate(loader):\n",
        "        y_pred = net(xx)\n",
        "        loss = loss_fn(y_pred, yy)\n",
        "        optimizer.zero_grad()\n",
        "        loss.backward()\n",
        "        optimizer.step()\n",
        "        running_loss += loss.item()\n",
        "    train_losses.append(running_loss / i)\n",
        "    y_pred = net(X_test)\n",
        "    test_loss = loss_fn(y_pred, Y_test)\n",
        "    test_losses.append(test_loss.item())"
      ],
      "execution_count": null,
      "outputs": []
    },
    {
      "cell_type": "markdown",
      "metadata": {
        "id": "OxaoyodyIJj9",
        "colab_type": "text"
      },
      "source": [
        "リスト3.7　trainとevalメソッドでDropoutの挙動を切り替える①"
      ]
    },
    {
      "cell_type": "code",
      "metadata": {
        "id": "T54I-ogG8Xum",
        "colab_type": "code",
        "colab": {}
      },
      "source": [
        "# 確率0.5でランダムに変数の次元を\n",
        "# 捨てるDropoutを各層に追加\n",
        "net = nn.Sequential(\n",
        "    nn.Linear(64, k),\n",
        "    nn.ReLU(),\n",
        "    nn.Dropout(0.5),\n",
        "    nn.Linear(k, k),\n",
        "    nn.ReLU(),\n",
        "    nn.Dropout(0.5),\n",
        "    nn.Linear(k, k),\n",
        "    nn.ReLU(),\n",
        "    nn.Dropout(0.5),\n",
        "    nn.Linear(k, k),\n",
        "    nn.ReLU(),\n",
        "    nn.Dropout(0.5),\n",
        "    nn.Linear(k, 10)\n",
        ")"
      ],
      "execution_count": null,
      "outputs": []
    },
    {
      "cell_type": "markdown",
      "metadata": {
        "id": "44FnBNAxIQGz",
        "colab_type": "text"
      },
      "source": [
        "リスト3.8　trainとevalメソッドでDropoutの挙動を切り替える②"
      ]
    },
    {
      "cell_type": "code",
      "metadata": {
        "id": "vdvkOTLh9KqG",
        "colab_type": "code",
        "colab": {}
      },
      "source": [
        "optimizer = optim.Adam(net.parameters())\n",
        "train_losses = []\n",
        "test_losses = []\n",
        "for epoch in range(100):\n",
        "    running_loss = 0.0\n",
        "    \n",
        "    # ネットワークを訓練モードにする\n",
        "    net.train()\n",
        "    for i, (xx, yy) in enumerate(loader):\n",
        "        y_pred = net(xx)\n",
        "        loss = loss_fn(y_pred, yy)\n",
        "        optimizer.zero_grad()\n",
        "        loss.backward()\n",
        "        optimizer.step()\n",
        "        running_loss += loss.item()\n",
        "    train_losses.append(running_loss / i)\n",
        "    \n",
        "    # ネットワークを評価モードにして\n",
        "    # 検証データの損失関数を計算する\n",
        "    net.eval()\n",
        "    y_pred = net(X_test)\n",
        "    test_loss = loss_fn(y_pred, Y_test)\n",
        "    test_losses.append(test_loss.item())"
      ],
      "execution_count": null,
      "outputs": []
    },
    {
      "cell_type": "markdown",
      "metadata": {
        "id": "5YI1LQbVIXH9",
        "colab_type": "text"
      },
      "source": [
        "リスト3.9　trainとevalメソッドでBatch Normalizationの挙動を切り替える"
      ]
    },
    {
      "cell_type": "code",
      "metadata": {
        "id": "7x_Xhf6t9TTG",
        "colab_type": "code",
        "colab": {}
      },
      "source": [
        "# Linear層にはBatchNorm1dを適用する\n",
        "net = nn.Sequential(\n",
        "    nn.Linear(64, k),\n",
        "    nn.ReLU(),\n",
        "    nn.BatchNorm1d(k),\n",
        "    nn.Linear(k, k),\n",
        "    nn.ReLU(),\n",
        "    nn.BatchNorm1d(k),\n",
        "    nn.Linear(k, k),\n",
        "    nn.ReLU(),\n",
        "    nn.BatchNorm1d(k),\n",
        "    nn.Linear(k, k),\n",
        "    nn.ReLU(),\n",
        "    nn.BatchNorm1d(k),\n",
        "    nn.Linear(k, 10)\n",
        ")"
      ],
      "execution_count": null,
      "outputs": []
    },
    {
      "cell_type": "markdown",
      "metadata": {
        "id": "cE5W_B85IbJV",
        "colab_type": "text"
      },
      "source": [
        "リスト3.10　活性化関数ReLUとDropoutを含んだカスタムの線形層を作り、それを用いてMLPを記述"
      ]
    },
    {
      "cell_type": "code",
      "metadata": {
        "id": "35jNbTcA91o2",
        "colab_type": "code",
        "colab": {}
      },
      "source": [
        "class CustomLinear(nn.Module):\n",
        "    def __init__(self, in_features, \n",
        "                 out_features, \n",
        "                 bias=True, p=0.5):\n",
        "        super().__init__()\n",
        "        self.linear = nn.Linear(in_features,\n",
        "                                out_features,\n",
        "                                bias)\n",
        "        self.relu = nn.ReLU()\n",
        "        self.drop = nn.Dropout(p)\n",
        "        \n",
        "    def forward(self, x):\n",
        "        x = self.linear(x)\n",
        "        x = self.relu(x)\n",
        "        x = self.drop(x)\n",
        "        return x\n",
        "    \n",
        "mlp = nn.Sequential(\n",
        "    CustomLinear(64, 200),\n",
        "    CustomLinear(200, 200),\n",
        "    CustomLinear(200, 200),\n",
        "    nn.Linear(200, 10)\n",
        ")"
      ],
      "execution_count": null,
      "outputs": []
    },
    {
      "cell_type": "markdown",
      "metadata": {
        "id": "xGeGnYUbI0mt",
        "colab_type": "text"
      },
      "source": [
        "リスト3.11　nn.Moduleを継承したクラスの利用"
      ]
    },
    {
      "cell_type": "code",
      "metadata": {
        "id": "wT9RWoUS-OSG",
        "colab_type": "code",
        "colab": {}
      },
      "source": [
        "class MyMLP(nn.Module):\n",
        "    def __init__(self, in_features, \n",
        "                 out_features):\n",
        "        super().__init__()\n",
        "        self.ln1 = CustomLinear(in_features, 200)\n",
        "        self.ln2 = CustomLinear(200, 200)\n",
        "        self.ln3 = CustomLinear(200, 200)\n",
        "        self.ln4 = CustomLinear(200, out_features)\n",
        "        \n",
        "    def forward(self, x):\n",
        "        x = self.ln1(x)\n",
        "        x = self.ln2(x)\n",
        "        x = self.ln3(x)\n",
        "        x = self.ln4(x)\n",
        "        return x\n",
        "    \n",
        "mlp = MyMLP(64, 10)"
      ],
      "execution_count": null,
      "outputs": []
    },
    {
      "cell_type": "markdown",
      "metadata": {
        "id": "n25TqvGHJCj8",
        "colab_type": "text"
      },
      "source": [
        "第4章以降のサンプルについて（第4章以降でよく使用するimport）"
      ]
    },
    {
      "cell_type": "code",
      "metadata": {
        "id": "8gZhfQJ6-XF2",
        "colab_type": "code",
        "colab": {}
      },
      "source": [
        "import torch\n",
        "from torch import nn, optim\n",
        "from torch.utils.data import (Dataset, \n",
        "                              DataLoader,\n",
        "                              TensorDataset)\n",
        "import tqdm"
      ],
      "execution_count": null,
      "outputs": []
    }
  ]
}