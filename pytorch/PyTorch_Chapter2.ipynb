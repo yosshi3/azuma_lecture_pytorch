{
  "nbformat": 4,
  "nbformat_minor": 0,
  "metadata": {
    "colab": {
      "name": "PyTorch_Chapter2.ipynb",
      "provenance": [],
      "collapsed_sections": [],
      "include_colab_link": true
    },
    "kernelspec": {
      "name": "python3",
      "display_name": "Python 3"
    },
    "accelerator": "GPU"
  },
  "cells": [
    {
      "cell_type": "markdown",
      "metadata": {
        "id": "view-in-github",
        "colab_type": "text"
      },
      "source": [
        "<a href=\"https://colab.research.google.com/github/yosshi3/python-season3/blob/master/pytorch/PyTorch_Chapter2.ipynb\" target=\"_parent\"><img src=\"https://colab.research.google.com/assets/colab-badge.svg\" alt=\"Open In Colab\"/></a>"
      ]
    },
    {
      "cell_type": "markdown",
      "metadata": {
        "id": "1vxR9LqDY8Ye",
        "colab_type": "text"
      },
      "source": [
        "Chapter2　最尤推定と線形モデル"
      ]
    },
    {
      "cell_type": "code",
      "metadata": {
        "id": "tPIfITcaBxSI",
        "colab_type": "code",
        "colab": {}
      },
      "source": [
        "!pip3 install http://download.pytorch.org/whl/cu80/torch-0.4.0-cp36-cp36m-linux_x86_64.whl\n",
        "!pip3 install torchvision\n",
        "!pip3 install tqdm\n"
      ],
      "execution_count": null,
      "outputs": []
    },
    {
      "cell_type": "code",
      "metadata": {
        "id": "MqiWwutIClJE",
        "colab_type": "code",
        "colab": {}
      },
      "source": [
        "import torch\n",
        "torch.tensor([1,2,3]).to(\"cuda:0\")"
      ],
      "execution_count": null,
      "outputs": []
    },
    {
      "cell_type": "markdown",
      "metadata": {
        "id": "2QryDW-iDSu3",
        "colab_type": "text"
      },
      "source": [
        "リスト2.1　テストデータを生成してパラメータを学習するための変数を準備"
      ]
    },
    {
      "cell_type": "code",
      "metadata": {
        "id": "ray08R8pYo1v",
        "colab_type": "code",
        "colab": {}
      },
      "source": [
        "import torch\n",
        "\n",
        "# 真の係数\n",
        "w_true = torch.Tensor([1, 2, 3])\n",
        "\n",
        "# Xのデータの準備。切片を回帰係数に含めるため、\n",
        "# Xの最初の次元に1を追加しておく\n",
        "X = torch.cat([torch.ones(100, 1), torch.randn(100, 2)], 1)\n",
        "\n",
        "# 真の係数と各Xとの内積を行列とベクトルの積でまとめて計算\n",
        "y = torch.mv(X, w_true) + torch.randn(100) * 0.5\n",
        "\n",
        "# 勾配降下で最適化するためのパラメータのTensorを\n",
        "# 乱数で初期化して作成\n",
        "w = torch.randn(3, requires_grad=True)\n",
        "\n",
        "# 学習率\n",
        "gamma = 0.1"
      ],
      "execution_count": null,
      "outputs": []
    },
    {
      "cell_type": "markdown",
      "metadata": {
        "id": "_ROz20sTDXTP",
        "colab_type": "text"
      },
      "source": [
        "リスト2.2　勾配降下法でパラメータを最適化"
      ]
    },
    {
      "cell_type": "code",
      "metadata": {
        "id": "wRldeUV7Yphe",
        "colab_type": "code",
        "colab": {}
      },
      "source": [
        "# 損失関数のログ\n",
        "losses = []\n",
        "\n",
        "# 100回イテレーションを回す\n",
        "for epoc in range(100):\n",
        "\n",
        "  # 前回のbackwardメソッドで計算された勾配の値を削除\n",
        "    w.grad = None\n",
        "    \n",
        "    # 線形モデルでyの予測値を計算\n",
        "    y_pred = torch.mv(X, w)\n",
        "    \n",
        "    # MSE lossとwによる微分を計算\n",
        "    loss = torch.mean((y - y_pred)**2)\n",
        "    loss.backward()\n",
        "    \n",
        "    # 勾配を更新する\n",
        "    # wをそのまま代入して更新すると異なるTensorになって\n",
        "    # 計算グラフが破壊されてしまうのでdataだけを更新する\n",
        "    w.data = w.data - gamma * w.grad.data\n",
        "    \n",
        "    # 収束確認のためにlossを記録しておく\n",
        "    losses.append(loss.item()) "
      ],
      "execution_count": null,
      "outputs": []
    },
    {
      "cell_type": "markdown",
      "metadata": {
        "id": "IL-k1tHaDeQu",
        "colab_type": "text"
      },
      "source": [
        "リスト2.3　matplotlibでプロット"
      ]
    },
    {
      "cell_type": "code",
      "metadata": {
        "id": "D-u6d8fJZj--",
        "colab_type": "code",
        "colab": {}
      },
      "source": [
        "%matplotlib inline\n",
        "from matplotlib import pyplot as plt\n",
        "plt.plot(losses)"
      ],
      "execution_count": null,
      "outputs": []
    },
    {
      "cell_type": "markdown",
      "metadata": {
        "id": "dpqKaO0KDlPI",
        "colab_type": "text"
      },
      "source": [
        "リスト2.4　回帰係数の確認"
      ]
    },
    {
      "cell_type": "code",
      "metadata": {
        "id": "pCmcnVkoZkYe",
        "colab_type": "code",
        "colab": {}
      },
      "source": [
        "w"
      ],
      "execution_count": null,
      "outputs": []
    },
    {
      "cell_type": "markdown",
      "metadata": {
        "id": "jQf9u40xDsWn",
        "colab_type": "text"
      },
      "source": [
        "リスト2.5　線形回帰モデルの構築と最適化の準備"
      ]
    },
    {
      "cell_type": "code",
      "metadata": {
        "id": "2kr66aurZ-qe",
        "colab_type": "code",
        "colab": {}
      },
      "source": [
        "from torch import nn, optim\n",
        "\n",
        "# Linear層を作成。今回は切片項は回帰係数に含めるので\n",
        "# 入力の次元を3とし、bias(切片)をFalseにする\n",
        "net = nn.Linear(in_features=3, out_features=1, bias=False)\n",
        "\n",
        "# SGDのオプティマイザーに上で定義したネットワークの\n",
        "# パラメータを渡して初期化\n",
        "optimizer = optim.SGD(net.parameters(), lr=0.1)\n",
        "\n",
        "# MSE lossクラス\n",
        "loss_fn = nn.MSELoss()"
      ],
      "execution_count": null,
      "outputs": []
    },
    {
      "cell_type": "markdown",
      "metadata": {
        "id": "ob8b_YuJDzbe",
        "colab_type": "text"
      },
      "source": [
        "リスト2.6　最適化のイテレーション（繰り返しループ）を回す"
      ]
    },
    {
      "cell_type": "code",
      "metadata": {
        "id": "qxZNld3_ifc8",
        "colab_type": "code",
        "colab": {}
      },
      "source": [
        "# 損失関数のログ\n",
        "losses = []\n",
        "\n",
        "# 100回イテレーションを回す\n",
        "for epoc in range(100):\n",
        "  \n",
        "    # 前回のbackwardメソッドで計算された勾配の値を削除\n",
        "    optimizer.zero_grad()\n",
        "    \n",
        "    # 線形モデルでyの予測値を計算\n",
        "    y_pred = net(X)\n",
        "    \n",
        "    # MSE lossを計算\n",
        "    # y_predは(n,1)のようなshapeを持っているので(n,)に直す必要がある\n",
        "    loss = loss_fn(y_pred.view_as(y), y)\n",
        "    \n",
        "    # lossのwによる微分を計算\n",
        "    loss.backward()\n",
        "    \n",
        "    # 勾配を更新する\n",
        "    optimizer.step()\n",
        "    \n",
        "    # 収束確認のためにlossを記録しておく\n",
        "    losses.append(loss.item())"
      ],
      "execution_count": null,
      "outputs": []
    },
    {
      "cell_type": "markdown",
      "metadata": {
        "id": "Sr5iNvm-D65g",
        "colab_type": "text"
      },
      "source": [
        "リスト2.7　収束したモデルのパラメータを確認"
      ]
    },
    {
      "cell_type": "code",
      "metadata": {
        "id": "FedgnmnMi0L7",
        "colab_type": "code",
        "colab": {}
      },
      "source": [
        "list(net.parameters())"
      ],
      "execution_count": null,
      "outputs": []
    },
    {
      "cell_type": "markdown",
      "metadata": {
        "id": "B8YaU8qaECFp",
        "colab_type": "text"
      },
      "source": [
        "リスト2.8　irisのデータセットの準備"
      ]
    },
    {
      "cell_type": "code",
      "metadata": {
        "id": "v22kcyaWi_uL",
        "colab_type": "code",
        "colab": {}
      },
      "source": [
        "from sklearn.datasets import load_iris\n",
        "iris = load_iris()\n",
        "\n",
        "# irisは(0,1,2)の3クラスの分類問題なのでここでは\n",
        "# (0,1)の2クラス分のデータだけを使用する\n",
        "# 本来は訓練用とテスト用に分けるべきだがここでは省略\n",
        "X = iris.data[:100]\n",
        "y = iris.target[:100]\n",
        "\n",
        "# NumPyのndarrayをPyTorchのTensorに変換\n",
        "X = torch.tensor(X, dtype=torch.float32)\n",
        "y = torch.tensor(y, dtype=torch.float32)"
      ],
      "execution_count": null,
      "outputs": []
    },
    {
      "cell_type": "markdown",
      "metadata": {
        "id": "_qCX-458EIxy",
        "colab_type": "text"
      },
      "source": [
        "リスト2.9　モデルの作成"
      ]
    },
    {
      "cell_type": "code",
      "metadata": {
        "id": "tJUZSN1CkQcL",
        "colab_type": "code",
        "colab": {}
      },
      "source": [
        "# irisのデータは4次元\n",
        "net = nn.Linear(4, 1)\n",
        "\n",
        "# シグモイド関数を作用させ、2クラス分類の、\n",
        "# クロスエントロピーを計算する関数\n",
        "loss_fn = nn.BCEWithLogitsLoss()\n",
        "\n",
        "# SGD(少し大きめの学習率)\n",
        "optimizer = optim.SGD(net.parameters(), lr=0.25)"
      ],
      "execution_count": null,
      "outputs": []
    },
    {
      "cell_type": "markdown",
      "metadata": {
        "id": "biCmeHxAEPMY",
        "colab_type": "text"
      },
      "source": [
        "リスト2.10　パラメータ最適化のイテレーションを回す"
      ]
    },
    {
      "cell_type": "code",
      "metadata": {
        "id": "sByxtw1Tkadb",
        "colab_type": "code",
        "colab": {}
      },
      "source": [
        "# 損失関数のログ\n",
        "losses = []\n",
        "\n",
        "# 100回イテレーションを回す\n",
        "for epoc in range(100):\n",
        "\n",
        "  # 前回のbackwardメソッドで計算された勾配の値を削除\n",
        "    optimizer.zero_grad()\n",
        "    \n",
        "    # 線形モデルでyの予測値を計算\n",
        "    y_pred = net(X)\n",
        "    \n",
        "    # MSE lossとwによる微分を計算\n",
        "    loss = loss_fn(y_pred.view_as(y), y)\n",
        "    loss.backward()\n",
        "    \n",
        "    # 勾配を更新する\n",
        "    optimizer.step()\n",
        "    \n",
        "    # 収束確認のためにlossを記録しておく\n",
        "    losses.append(loss.item())"
      ],
      "execution_count": null,
      "outputs": []
    },
    {
      "cell_type": "code",
      "metadata": {
        "id": "So4fOUkeki77",
        "colab_type": "code",
        "colab": {}
      },
      "source": [
        "%matplotlib inline\n",
        "from matplotlib import pyplot as plt\n",
        "plt.plot(losses)"
      ],
      "execution_count": null,
      "outputs": []
    },
    {
      "cell_type": "markdown",
      "metadata": {
        "id": "xrYjY85mEXeA",
        "colab_type": "text"
      },
      "source": [
        "リスト2.11　モデルの作成"
      ]
    },
    {
      "cell_type": "code",
      "metadata": {
        "id": "p4X9WAyRk3CM",
        "colab_type": "code",
        "colab": {}
      },
      "source": [
        "# 線型結合の結果\n",
        "h = net(X)\n",
        "\n",
        "# シグモイド関数を作用させた結果はy=1の確率を表す\n",
        "prob = nn.functional.sigmoid(h)\n",
        "\n",
        "# 確率が0.5以上のものをクラス1と予想し、それ以外を0とする\n",
        "# PyTorchにはBool型がないので対応する型としてByteTensorが出力される\n",
        "y_pred = prob > 0.5\n",
        "\n",
        "# 予測結果の確認 (yはFloatTensorなのでByteTensor\n",
        "# に変換してから比較する）\n",
        "(y.byte() == y_pred.view_as(y)).sum().item()"
      ],
      "execution_count": null,
      "outputs": []
    },
    {
      "cell_type": "markdown",
      "metadata": {
        "id": "l3chhODIEfQ2",
        "colab_type": "text"
      },
      "source": [
        "リスト2.12　10種類の手書きの数字のデータセットの分類問題"
      ]
    },
    {
      "cell_type": "code",
      "metadata": {
        "id": "F9N5AzlxlTBb",
        "colab_type": "code",
        "colab": {}
      },
      "source": [
        "from sklearn.datasets import load_digits\n",
        "digits = load_digits()\n",
        "X = digits.data\n",
        "y = digits.target\n",
        "X = torch.tensor(X, dtype=torch.float32)\n",
        "\n",
        "# CrossEntropyLoss関数はyとしてint64型のTensorを受け取るので注意\n",
        "y = torch.tensor(y, dtype=torch.int64)\n",
        "\n",
        "# 出力は10（クラス数）次元\n",
        "net = nn.Linear(X.size()[1], 10)\n",
        "\n",
        "# ソフトマックスクロスエントロピー\n",
        "loss_fn = nn.CrossEntropyLoss()\n",
        "\n",
        "# SGD\n",
        "optimizer = optim.SGD(net.parameters(), lr=0.01)"
      ],
      "execution_count": null,
      "outputs": []
    },
    {
      "cell_type": "markdown",
      "metadata": {
        "id": "pSYiacDbEmgB",
        "colab_type": "text"
      },
      "source": [
        "リスト2.13　学習のイテレーション部分"
      ]
    },
    {
      "cell_type": "code",
      "metadata": {
        "id": "LSSbDYK0llW7",
        "colab_type": "code",
        "colab": {}
      },
      "source": [
        "# 損失関数のログ\n",
        "losses = []\n",
        "\n",
        "# 100回イテレーションを回す\n",
        "for epoc in range(100):\n",
        "\n",
        "  # 前回のbackwardメソッドで計算された勾配の値を削除\n",
        "    optimizer.zero_grad()\n",
        "    \n",
        "    # 線形モデルでyの予測値を計算\n",
        "    y_pred = net(X)\n",
        "    \n",
        "    # MSE lossとwによる微分を計算\n",
        "    loss = loss_fn(y_pred, y)\n",
        "    loss.backward()\n",
        "    \n",
        "    # 勾配を更新する\n",
        "    optimizer.step()\n",
        "    \n",
        "    # 収束確認のためにlossを記録しておく\n",
        "    losses.append(loss.item())"
      ],
      "execution_count": null,
      "outputs": []
    },
    {
      "cell_type": "markdown",
      "metadata": {
        "id": "EO_ADW8RErWx",
        "colab_type": "text"
      },
      "source": [
        "リスト2.14　正解率"
      ]
    },
    {
      "cell_type": "code",
      "metadata": {
        "id": "MpxyGQihlrjL",
        "colab_type": "code",
        "colab": {}
      },
      "source": [
        "# torch.maxは集計軸を指定すると最大値の他にその位置も返す\n",
        "_, y_pred = torch.max(net(X), 1)\n",
        "# 正解率を計算する\n",
        "(y_pred == y).sum().item() / len(y)"
      ],
      "execution_count": null,
      "outputs": []
    }
  ]
}